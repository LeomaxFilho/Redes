{
 "cells": [
  {
   "cell_type": "code",
   "execution_count": 85,
   "id": "23bdc877-4326-42bd-bcfb-067df62ae3f9",
   "metadata": {},
   "outputs": [],
   "source": [
    "import random\n",
    "import sys"
   ]
  },
  {
   "cell_type": "code",
   "execution_count": 96,
   "id": "b0bc7b0a-ae7e-4910-ab4c-b035ee4271dc",
   "metadata": {},
   "outputs": [],
   "source": [
    "def gerar_requisicao(req_res, tipo, identificador):\n",
    "    req_res = req_res & 0xF\n",
    "    tipo = tipo & 0xF\n",
    "    mensagem = ((((identificador << 4) | tipo) << 4) | req_res) & 0xFFFFFF\n",
    "    \n",
    "    return mensagem\n",
    "    \n",
    "def verificar_req(valor):\n",
    "    if valor > 1:\n",
    "        print(\"Voce nao digitou um numero inteiro valido\")\n",
    "        raise ValorExcedidoException(valor)\n",
    "        \n",
    "def verificar_tipo(valor):\n",
    "    if valor > 3:\n",
    "        print(\"Voce nao digitou um numero inteiro valido\")\n",
    "        raise ValorExcedidoException(valor)"
   ]
  },
  {
   "cell_type": "code",
   "execution_count": 98,
   "id": "9c256855-8be7-4c36-b5c7-604774ce67cc",
   "metadata": {},
   "outputs": [],
   "source": [
    "try:\n",
    "    req = 1 #int(input('Voce quer uma requisicao[0] ou uma resposta[1]?'))\n",
    "    verificar_req(req)\n",
    "except ValorExcedidoException or ValueError:\n",
    "    sys.exit(1)\n",
    "try:\n",
    "    tipo = 1 #= int(input('Data[0], Frase Motivacional[1], Quantidade de Respostas[3]'))\n",
    "except ValorExcedidoException or ValueError:\n",
    "\n",
    "    sys.exit(1)\n",
    "identificador = 1 #random.randint(1, 65535) # gera randomicamente um valor"
   ]
  },
  {
   "cell_type": "code",
   "execution_count": 100,
   "id": "e3ac490c-5602-43fc-b8d1-c13a1e2df856",
   "metadata": {},
   "outputs": [
    {
     "data": {
      "text/plain": [
       "'0b100010001'"
      ]
     },
     "execution_count": 100,
     "metadata": {},
     "output_type": "execute_result"
    }
   ],
   "source": [
    "mensagem = gerar_requisicao(req, tipo, identificador)\n",
    "bin(mensagem)"
   ]
  },
  {
   "cell_type": "code",
   "execution_count": 387,
   "id": "5e271df1-35a0-4787-885d-cee3d7fd8910",
   "metadata": {},
   "outputs": [],
   "source": [
    "def receber_resposta(mensagem):\n",
    "    req_res = mensagem & 0xF\n",
    "    tipo = (mensagem >> 4) & 0xF\n",
    "    identificador = (mensagem >> 8) & 0xFFFF\n",
    "\n",
    "    tamanho = (mensagem >> 24) & 0xFF\n",
    "    caractere = chr((mensagem >> 32) & 0xFF)\n",
    "\n",
    "    for i in range(tamanho):\n",
    "        caractere = chr((mensagem >> 32+(i*8)) & 0xFF)\n",
    "        print(caractere)"
   ]
  },
  {
   "cell_type": "code",
   "execution_count": 389,
   "id": "8141a406-e20c-4349-ab8e-df57ae056573",
   "metadata": {},
   "outputs": [
    {
     "data": {
      "text/plain": [
       "'0b11000100110000100000010000000000001000100000001'"
      ]
     },
     "execution_count": 389,
     "metadata": {},
     "output_type": "execute_result"
    }
   ],
   "source": [
    "mensagem_2 = (((2 << 24) | (ord('a') << 32)) | (ord('b') << 40)) | mensagem\n",
    "bin(mensagem_2)"
   ]
  },
  {
   "cell_type": "code",
   "execution_count": 391,
   "id": "09832bf9-201a-4d19-9cb4-67133864163f",
   "metadata": {},
   "outputs": [
    {
     "name": "stdout",
     "output_type": "stream",
     "text": [
      "a\n",
      "b\n"
     ]
    }
   ],
   "source": [
    "receber_resposta(mensagem_2)"
   ]
  },
  {
   "cell_type": "code",
   "execution_count": null,
   "id": "783dddc9-29b8-462f-b90c-1d69d6620239",
   "metadata": {},
   "outputs": [],
   "source": []
  },
  {
   "cell_type": "code",
   "execution_count": null,
   "id": "b7c3ab38-454d-4d5f-b44d-54ae06b6c401",
   "metadata": {},
   "outputs": [],
   "source": []
  }
 ],
 "metadata": {
  "kernelspec": {
   "display_name": "Python 3 (ipykernel)",
   "language": "python",
   "name": "python3"
  },
  "language_info": {
   "codemirror_mode": {
    "name": "ipython",
    "version": 3
   },
   "file_extension": ".py",
   "mimetype": "text/x-python",
   "name": "python",
   "nbconvert_exporter": "python",
   "pygments_lexer": "ipython3",
   "version": "3.12.4"
  }
 },
 "nbformat": 4,
 "nbformat_minor": 5
}
